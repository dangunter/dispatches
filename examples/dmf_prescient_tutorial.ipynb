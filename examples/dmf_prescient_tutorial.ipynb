{
 "cells": [
  {
   "cell_type": "markdown",
   "metadata": {
    "collapsed": true,
    "pycharm": {
     "name": "#%% md\n"
    }
   },
   "source": [
    "Re-imagining the Prescient tutorial using a data management framework"
   ]
  },
  {
   "cell_type": "markdown",
   "source": [
    "Downloading the RTS-GMLC data"
   ],
   "metadata": {
    "collapsed": false,
    "pycharm": {
     "name": "#%% md\n"
    }
   }
  },
  {
   "cell_type": "code",
   "execution_count": 1,
   "outputs": [
    {
     "name": "stderr",
     "output_type": "stream",
     "text": [
      "2020-12-22 09:47:37,916 [INFO] idaes.dmf.workspace: Using existing DMF workspace: C:\\Users\\dkgun\\src\\dispatches\\dangunter\\dispatches\\examples\\prescient_tutorial_workspace\\config.yaml\n",
      "2020-12-22 09:47:37,916 [INFO] idaes.dmf.workspace: Using existing path for new DMF workspace: C:\\Users\\dkgun\\src\\dispatches\\dangunter\\dispatches\\examples\\prescient_tutorial_workspace\n",
      "2020-12-22 09:47:37,924 [INFO] idaes.dmf.dmfbase: Saving configuration location to: C:\\Users\\dkgun/.dmf\n"
     ]
    },
    {
     "name": "stdout",
     "output_type": "stream",
     "text": [
      "Already have RTS-GMLC resource\n",
      "Files:\n",
      ".git\n",
      ".gitignore\n",
      ".gitmodules\n",
      "CONTRIBUTING.md\n",
      "node_re_basemap.png\n",
      "README.md\n",
      "RTS-GMLC.pdf\n",
      "RTS-GMLC_updates.md\n",
      "RTS_Data\n",
      "rts_layers.png\n"
     ]
    }
   ],
   "source": [
    "import os\n",
    "from dispatches.workflow import ManagedWorkflow\n",
    "from dispatches.workflow import DatasetType as DT\n",
    "\n",
    "# Create a new managed workflow in a DMF workspace with the given name\n",
    "wf = ManagedWorkflow(\"prescient_tutorial_workflow\", \"./prescient_tutorial_workspace\")\n",
    "\n",
    "# Fetch RTS-GMLC data\n",
    "ds = wf.get_dataset(DT.RTS_GMLC)\n",
    "# print(\"dataset:\\n%s\" % ds)\n",
    "# Print out the file-list, as in the original tutorial\n",
    "print(\"Files:\")\n",
    "try:\n",
    "    files = ds.meta[\"files\"]\n",
    "except KeyError:\n",
    "    print(\"No files\")\n",
    "else:\n",
    "    for filename in files:\n",
    "        print(filename)"
   ],
   "metadata": {
    "collapsed": false,
    "pycharm": {
     "name": "#%%\n"
    }
   }
  },
  {
   "cell_type": "code",
   "execution_count": 2,
   "outputs": [
    {
     "name": "stdout",
     "output_type": "stream",
     "text": [
      "Already have RTS-GMLC resource\n"
     ]
    }
   ],
   "source": [
    "ds = wf.get_dataset(DT.RTS_GMLC)"
   ],
   "metadata": {
    "collapsed": false,
    "pycharm": {
     "name": "#%%\n"
    }
   }
  },
  {
   "cell_type": "code",
   "execution_count": 3,
   "outputs": [
    {
     "data": {
      "text/plain": "{'directory': 'C:\\\\Users\\\\dkgun\\\\src\\\\dispatches\\\\dangunter\\\\dispatches\\\\examples\\\\prescient_tutorial_workspace\\\\downloads\\\\RTS-GMLC',\n 'files': ['.git',\n  '.gitignore',\n  '.gitmodules',\n  'CONTRIBUTING.md',\n  'node_re_basemap.png',\n  'README.md',\n  'RTS-GMLC.pdf',\n  'RTS-GMLC_updates.md',\n  'RTS_Data',\n  'rts_layers.png']}"
     },
     "execution_count": 3,
     "metadata": {},
     "output_type": "execute_result"
    }
   ],
   "source": [
    "ds.meta"
   ],
   "metadata": {
    "collapsed": false,
    "pycharm": {
     "name": "#%%\n"
    }
   }
  },
  {
   "cell_type": "code",
   "execution_count": null,
   "outputs": [],
   "source": [],
   "metadata": {
    "collapsed": false,
    "pycharm": {
     "name": "#%%\n"
    }
   }
  }
 ],
 "metadata": {
  "kernelspec": {
   "display_name": "Python 3",
   "language": "python",
   "name": "python3"
  },
  "language_info": {
   "codemirror_mode": {
    "name": "ipython",
    "version": 2
   },
   "file_extension": ".py",
   "mimetype": "text/x-python",
   "name": "python",
   "nbconvert_exporter": "python",
   "pygments_lexer": "ipython2",
   "version": "2.7.6"
  }
 },
 "nbformat": 4,
 "nbformat_minor": 0
}