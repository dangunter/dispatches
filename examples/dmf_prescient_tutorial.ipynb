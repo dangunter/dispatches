{
 "cells": [
  {
   "cell_type": "markdown",
   "metadata": {
    "collapsed": true,
    "pycharm": {
     "name": "#%% md\n"
    }
   },
   "source": [
    "Re-imagining the Prescient tutorial using a data management framework\n",
    "\n",
    "\n"
   ]
  },
  {
   "cell_type": "markdown",
   "source": [
    "Downloading the RTS-GMLC data"
   ],
   "metadata": {
    "collapsed": false,
    "pycharm": {
     "name": "#%% md\n"
    }
   }
  },
  {
   "cell_type": "code",
   "execution_count": 2,
   "outputs": [
    {
     "name": "stdout",
     "output_type": "stream",
     "text": [
      "RTS-GMLC already downloaded to C:\\Users\\dkgun\\src\\dispatches\\dangunter\\Prescient\\downloads\\rts_gmlc\\RTS-GMLC. If you would like re-download it, delete the directory C:\\Users\\dkgun\\src\\dispatches\\dangunter\\Prescient\\downloads\\rts_gmlc\\RTS-GMLC.\n",
      "Files:\n",
      ".git\n",
      ".gitignore\n",
      ".gitmodules\n",
      "CONTRIBUTING.md\n",
      "node_re_basemap.png\n",
      "README.md\n",
      "RTS-GMLC.pdf\n",
      "RTS-GMLC_updates.md\n",
      "RTS_Data\n",
      "rts_layers.png\n"
     ]
    }
   ],
   "source": [
    "\n",
    "# NEW\n",
    "from prescient.workflow import ManagedWorkflow\n",
    "from dispatches.workflow.rts_gmlc import DatasetFactory\n",
    "\n",
    "# Create a new managed workflow in a DMF workspace with the given name\n",
    "workflow = ManagedWorkflow(\"prescient_tutorial_workflow\", \"prescient_tutorial_workspace\")\n",
    "\n",
    "\n",
    "# Return the metadata of the dataset as a dictionary-like object\n",
    "ds = workflow.get_dataset(\"rts-gmlc\")\n",
    "# print(\"dataset:\\n%s\" % ds)\n",
    "# Print out the file-list, as in the original tutorial\n",
    "print(\"Files:\")\n",
    "try:\n",
    "    files = ds.meta[\"files\"]\n",
    "except KeyError:\n",
    "    print(\"No files\")\n",
    "else:\n",
    "    for filename in files:\n",
    "        print(filename)"
   ],
   "metadata": {
    "collapsed": false,
    "pycharm": {
     "name": "#%%\n"
    }
   }
  },
  {
   "cell_type": "code",
   "execution_count": 2,
   "outputs": [],
   "source": [],
   "metadata": {
    "collapsed": false,
    "pycharm": {
     "name": "#%%\n"
    }
   }
  }
 ],
 "metadata": {
  "kernelspec": {
   "display_name": "Python 3",
   "language": "python",
   "name": "python3"
  },
  "language_info": {
   "codemirror_mode": {
    "name": "ipython",
    "version": 2
   },
   "file_extension": ".py",
   "mimetype": "text/x-python",
   "name": "python",
   "nbconvert_exporter": "python",
   "pygments_lexer": "ipython2",
   "version": "2.7.6"
  }
 },
 "nbformat": 4,
 "nbformat_minor": 0
}