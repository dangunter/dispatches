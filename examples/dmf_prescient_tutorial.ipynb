{
 "cells": [
  {
   "cell_type": "markdown",
   "metadata": {
    "collapsed": true,
    "pycharm": {
     "name": "#%% md\n"
    }
   },
   "source": [
    "Re-imagining the Prescient tutorial using a data management framework"
   ]
  },
  {
   "cell_type": "markdown",
   "metadata": {
    "pycharm": {
     "name": "#%% md\n"
    }
   },
   "source": [
    "Downloading the RTS-GMLC data"
   ]
  },
  {
   "cell_type": "code",
   "execution_count": 1,
   "metadata": {
    "pycharm": {
     "name": "#%%\n"
    }
   },
   "outputs": [],
   "source": [
    "from idaes.dmf import magics\n",
    "import logging\n",
    "from dispatches.workflow import ManagedWorkflow, set_log_level\n",
    "from dispatches.workflow import DatasetType as DT\n",
    "from dispatches.workflow import rts_gmlc\n"
   ]
  },
  {
   "cell_type": "code",
   "execution_count": 2,
   "metadata": {
    "pycharm": {
     "name": "#%%\n"
    }
   },
   "outputs": [
    {
     "name": "stderr",
     "output_type": "stream",
     "text": [
      "2021-01-29 12:09:07,774 [INFO] idaes.dmf.workspace: Using existing DMF workspace: C:\\Users\\dkgun\\src\\dispatches\\dangunter\\dispatches\\examples\\prescient_tutorial_workspace-new\\config.yaml\n",
      "2021-01-29 12:09:07,778 [INFO] idaes.dmf.workspace: Using existing path for new DMF workspace: C:\\Users\\dkgun\\src\\dispatches\\dangunter\\dispatches\\examples\\prescient_tutorial_workspace-new\n",
      "2021-01-29 12:09:07,780 [INFO] idaes.dmf.dmfbase: Saving configuration location to: C:\\Users\\dkgun/.dmf\n"
     ]
    },
    {
     "name": "stdout",
     "output_type": "stream",
     "text": [
      "Already have an existing resource of type 'rts-gmlc'\n",
      "Files:\n",
      ".git\n",
      ".gitignore\n",
      ".gitmodules\n",
      "CONTRIBUTING.md\n",
      "node_re_basemap.png\n",
      "README.md\n",
      "RTS-GMLC.pdf\n",
      "RTS-GMLC_updates.md\n",
      "RTS_Data\n",
      "rts_layers.png\n"
     ]
    }
   ],
   "source": [
    "set_log_level(logging.DEBUG, dest=2)\n",
    "\n",
    "\n",
    "# Create a new managed workflow in a DMF workspace with the given name\n",
    "wf = ManagedWorkflow(\"prescient_tutorial_workflow\", \"./prescient_tutorial_workspace-new\")\n",
    "\n",
    "# Fetch RTS-GMLC data\n",
    "ds = wf.get_dataset(DT.RTS_GMLC)\n",
    "# print(\"dataset:\\n%s\" % ds)\n",
    "# Print out the file-list, as in the original tutorial\n",
    "print(\"Files:\")\n",
    "try:\n",
    "    files = ds.meta[\"files\"]\n",
    "except KeyError:\n",
    "    print(\"No files\")\n",
    "else:\n",
    "    for filename in files:\n",
    "        print(filename)"
   ]
  },
  {
   "cell_type": "code",
   "execution_count": 3,
   "metadata": {
    "pycharm": {
     "name": "#%%\n"
    }
   },
   "outputs": [],
   "source": [
    "#ds = wf.get_dataset(DT.RTS_GMLC)"
   ]
  },
  {
   "cell_type": "code",
   "execution_count": 4,
   "metadata": {
    "pycharm": {
     "name": "#%%\n"
    }
   },
   "outputs": [
    {
     "data": {
      "text/plain": [
       "{'directory': 'C:\\\\Users\\\\dkgun\\\\src\\\\dispatches\\\\dangunter\\\\dispatches\\\\examples\\\\prescient_tutorial_workspace-new\\\\downloads\\\\RTS-GMLC',\n",
       " 'files': ['.git',\n",
       "  '.gitignore',\n",
       "  '.gitmodules',\n",
       "  'CONTRIBUTING.md',\n",
       "  'node_re_basemap.png',\n",
       "  'README.md',\n",
       "  'RTS-GMLC.pdf',\n",
       "  'RTS-GMLC_updates.md',\n",
       "  'RTS_Data',\n",
       "  'rts_layers.png'],\n",
       " 'resource': <idaes.dmf.resource.Resource at 0x25dff08da90>}"
      ]
     },
     "execution_count": 4,
     "metadata": {},
     "output_type": "execute_result"
    }
   ],
   "source": [
    "ds.meta"
   ]
  },
  {
   "cell_type": "code",
   "execution_count": 5,
   "metadata": {
    "pycharm": {
     "name": "#%%\n"
    }
   },
   "outputs": [
    {
     "name": "stderr",
     "output_type": "stream",
     "text": [
      "2021-01-29 12:09:07,858 workflow DEBUG - step.start name=dispatches.workflow.rts_gmlc.create_template\n",
      "2021-01-29 12:09:07,874 workflow INFO - Step dispatches.workflow.rts_gmlc.create_template has already been run with given inputs\n",
      "2021-01-29 12:09:07,880 workflow DEBUG - step.end name=dispatches.workflow.rts_gmlc.create_template duplicate\n",
      "2021-01-29 12:09:07,880 workflow DEBUG - step.start name=dispatches.workflow.rts_gmlc.create_time_series\n",
      "2021-01-29 12:09:07,880 workflow INFO - Step dispatches.workflow.rts_gmlc.create_time_series has already been run with given inputs\n",
      "2021-01-29 12:09:07,880 workflow DEBUG - step.end name=dispatches.workflow.rts_gmlc.create_time_series duplicate\n",
      "2021-01-29 12:09:07,880 workflow DEBUG - step.start name=dispatches.workflow.rts_gmlc.copy_scripts\n",
      "2021-01-29 12:09:07,896 workflow INFO - Step dispatches.workflow.rts_gmlc.copy_scripts has already been run with given inputs\n",
      "2021-01-29 12:09:07,896 workflow DEBUG - step.end name=dispatches.workflow.rts_gmlc.copy_scripts duplicate\n"
     ]
    }
   ],
   "source": [
    "# run, with anchor to previously created dataset\n",
    "wf.run(rts_gmlc.create_template, inputs=ds)\n",
    "wf.run(rts_gmlc.create_time_series, inputs=ds)\n",
    "wf.run(rts_gmlc.copy_scripts, inputs=ds)"
   ]
  },
  {
   "cell_type": "code",
   "execution_count": 21,
   "metadata": {},
   "outputs": [
    {
     "name": "stdout",
     "output_type": "stream",
     "text": [
      "C:\\Users\\dkgun\\src\\dispatches\\dangunter\\dispatches\\examples\n"
     ]
    }
   ],
   "source": [
    "cd ../../dispatches/examples"
   ]
  },
  {
   "cell_type": "code",
   "execution_count": 22,
   "metadata": {
    "pycharm": {
     "name": "#%%\n"
    }
   },
   "outputs": [
    {
     "name": "stderr",
     "output_type": "stream",
     "text": [
      "2021-01-29 12:12:44,271 [INFO] idaes.dmf.dmfbase: Saving configuration location to: C:\\Users\\dkgun/.dmf\n"
     ]
    },
    {
     "data": {
      "text/markdown": [
       "*Success!* Using workspace at \"prescient_tutorial_workspace-new\""
      ]
     },
     "metadata": {},
     "output_type": "display_data"
    }
   ],
   "source": [
    "# use DMF directly to view the results\n",
    "%dmf init prescient_tutorial_workspace-new"
   ]
  },
  {
   "cell_type": "code",
   "execution_count": 23,
   "metadata": {
    "pycharm": {
     "name": "#%%\n"
    }
   },
   "outputs": [
    {
     "data": {
      "text/markdown": [
       "| ID | Name(s) | Type | Modified | Description | \n",
       "| -- | ------- | ---- | -------- | ----------- |\n",
       "| a1628f71c2694eb780ba3df21b005090 | rts-gmlc | json | 1611929309.041815 |  |\n",
       "| 63d35231d974425680a842dd896ed5a6 | dispatches.workflow.rts_gmlc.create_template | json | 1611929397.165644 | Processing step dispatches.workflow.rts_gmlc.create_template |\n",
       "| 2e2ee4518715487d9f9924e83ba5d4ef | dat_file | json | 1611929397.165644 | Output files for processing step dispatches.workflow.rts_gmlc.create_template |\n",
       "| a350ddec93b740aca95c3dca9bce34ab | dispatches.workflow.rts_gmlc.copy_scripts | json | 1611929570.840134 | Processing step dispatches.workflow.rts_gmlc.copy_scripts |\n",
       "| c906d19e68e74d60a8703403b9fb5127 | null | json | 1611929590.763869 |  |\n",
       "| 8380c1cd04164809a420d28e11333195 | dispatches.workflow.rts_gmlc.create_template | json | 1611929604.012503 | Processing step dispatches.workflow.rts_gmlc.create_template |\n",
       "| 4128176457944bd6900df79392e7763c | dat_file | json | 1611929604.028097 | Output files for processing step dispatches.workflow.rts_gmlc.create_template |\n",
       "| 5c5a745d233d498d9d2afc0ec3d92abc | dispatches.workflow.rts_gmlc.create_time_series | json | 1611945121.527925 | Processing step dispatches.workflow.rts_gmlc.create_time_series |\n",
       "| 6f297aa386124e0cb6ef993c3e0d000c | output_files | json | 1611945121.54692 | Output files for processing step dispatches.workflow.rts_gmlc.create_time_series |\n",
       "| 94adf0311b9d495d814a78150fac2448 | script:populate_with_network_deterministic.txt | json | 1611945865.271339 |  |\n",
       "| 956756bc70fb41aaab774eab3f2901ff | dispatches.workflow.rts_gmlc.runner | json | 1611950433.41153 | Processing step dispatches.workflow.rts_gmlc.runner |\n",
       "| 599a47c96085470a94cb6d31bda3149e | dispatches.workflow.rts_gmlc.runner | json | 1611950828.868632 | Processing step dispatches.workflow.rts_gmlc.runner |\n",
       "| afea2ec01f8b4ea8be17f3dafce98d09 | dispatches.workflow.rts_gmlc.runner | json | 1611950958.403884 | Processing step dispatches.workflow.rts_gmlc.runner |"
      ]
     },
     "metadata": {},
     "output_type": "display_data"
    },
    {
     "data": {
      "text/plain": [
       "True"
      ]
     },
     "execution_count": 23,
     "metadata": {},
     "output_type": "execute_result"
    }
   ],
   "source": [
    "%dmf list"
   ]
  },
  {
   "cell_type": "code",
   "execution_count": 8,
   "metadata": {
    "pycharm": {
     "name": "#%%\n"
    }
   },
   "outputs": [
    {
     "name": "stderr",
     "output_type": "stream",
     "text": [
      "2021-01-29 12:09:08,012 workflow DEBUG - step.start name=dispatches.workflow.rts_gmlc.copy_scripts\n",
      "2021-01-29 12:09:08,012 workflow INFO - Step dispatches.workflow.rts_gmlc.copy_scripts has already been run with given inputs\n",
      "2021-01-29 12:09:08,027 workflow DEBUG - step.end name=dispatches.workflow.rts_gmlc.copy_scripts duplicate\n"
     ]
    }
   ],
   "source": [
    "wf.run(rts_gmlc.copy_scripts, inputs=ds)\n",
    "\n"
   ]
  },
  {
   "cell_type": "code",
   "execution_count": 9,
   "metadata": {
    "pycharm": {
     "name": "#%%\n"
    }
   },
   "outputs": [
    {
     "name": "stdout",
     "output_type": "stream",
     "text": [
      "Already have an existing resource of type 'null'\n"
     ]
    }
   ],
   "source": [
    "ds = wf.get_dataset(\"null\")"
   ]
  },
  {
   "cell_type": "code",
   "execution_count": 11,
   "metadata": {
    "pycharm": {
     "name": "#%%\n"
    }
   },
   "outputs": [
    {
     "name": "stderr",
     "output_type": "stream",
     "text": [
      "2021-01-29 12:09:17,132 workflow DEBUG - step.start name=dispatches.workflow.rts_gmlc.create_template\n",
      "2021-01-29 12:09:17,157 workflow INFO - Step dispatches.workflow.rts_gmlc.create_template has already been run with given inputs\n",
      "2021-01-29 12:09:17,159 workflow DEBUG - step.end name=dispatches.workflow.rts_gmlc.create_template duplicate\n"
     ]
    }
   ],
   "source": [
    "wf.run(rts_gmlc.create_template, inputs=ds)"
   ]
  },
  {
   "cell_type": "code",
   "execution_count": 12,
   "metadata": {
    "pycharm": {
     "name": "#%%\n"
    }
   },
   "outputs": [
    {
     "name": "stderr",
     "output_type": "stream",
     "text": [
      "2021-01-29 12:09:18,382 workflow DEBUG - Creating dataset for script '{path}'\n",
      "2021-01-29 12:09:18,398 workflow DEBUG - Script configuration already in DMF: C:\\Users\\dkgun\\src\\dispatches\\dangunter\\dispatches\\examples\\prescient_tutorial_workspace-new\\downloads\\populate_with_network_deterministic.txt\n",
      "2021-01-29 12:09:18,399 workflow DEBUG - step.start name=dispatches.workflow.rts_gmlc.runner\n",
      "2021-01-29 12:09:18,403 workflow DEBUG - step.run.start name=dispatches.workflow.rts_gmlc.runner\n",
      "2021-01-29 12:09:18,403 workflow DEBUG - step.run.end name=dispatches.workflow.rts_gmlc.runner\n",
      "2021-01-29 12:09:18,419 workflow DEBUG - Link input script:populate_with_network_deterministic.txt to processing step\n",
      "2021-01-29 12:09:18,419 workflow DEBUG - Push all relations into DMF with .update()\n",
      "2021-01-29 12:09:18,450 workflow DEBUG - step.end name=dispatches.workflow.rts_gmlc.runner\n"
     ]
    }
   ],
   "source": [
    "wf.run_script('populate_with_network_deterministic.txt')"
   ]
  },
  {
   "cell_type": "code",
   "execution_count": null,
   "metadata": {
    "pycharm": {
     "name": "#%%\n"
    }
   },
   "outputs": [],
   "source": [
    "import runpy\n",
    "from pathlib import Path"
   ]
  },
  {
   "cell_type": "code",
   "execution_count": null,
   "metadata": {},
   "outputs": [],
   "source": [
    "p = Path(r'C:\\Users\\dkgun\\src\\dispatches\\dangunter\\Prescient\\prescient\\scripts\\populator.py')"
   ]
  },
  {
   "cell_type": "code",
   "execution_count": null,
   "metadata": {},
   "outputs": [],
   "source": [
    "p.exists()"
   ]
  },
  {
   "cell_type": "code",
   "execution_count": null,
   "metadata": {},
   "outputs": [],
   "source": [
    "runpy.run_path(p)"
   ]
  },
  {
   "cell_type": "code",
   "execution_count": null,
   "metadata": {},
   "outputs": [],
   "source": [
    "p.exists()"
   ]
  },
  {
   "cell_type": "code",
   "execution_count": null,
   "metadata": {},
   "outputs": [],
   "source": [
    "import subprocess"
   ]
  },
  {
   "cell_type": "code",
   "execution_count": null,
   "metadata": {},
   "outputs": [],
   "source": [
    "options = ['--start-date 2020-07-10',\n",
    "'--end-date 2020-07-16',\n",
    "'--sources-file sources_with_network.txt',\n",
    "'--output-directory deterministic_with_network_scenarios',\n",
    "'--scenario-creator-options-file deterministic_scenario_creator_with_network.txt',\n",
    "'--traceback'\n",
    "]"
   ]
  },
  {
   "cell_type": "code",
   "execution_count": null,
   "metadata": {},
   "outputs": [],
   "source": [
    "cd C:/Users/dkgun/src/dispatches/dangunter/dispatches/examples/prescient_tutorial_workspace-new/downloads"
   ]
  },
  {
   "cell_type": "code",
   "execution_count": null,
   "metadata": {},
   "outputs": [],
   "source": [
    "!python C:\\Users\\dkgun\\src\\dispatches\\dangunter\\Prescient\\prescient\\scripts\\populator.py --start-date 2020-07-10 --end-date 2020-07-16 --sources-file sources_with_network.txt --output-directory deterministic_with_network_scenarios --scenario-creator-options-file deterministic_scenario_creator_with_network.txt --traceback\n"
   ]
  },
  {
   "cell_type": "code",
   "execution_count": null,
   "metadata": {},
   "outputs": [],
   "source": [
    "import sys"
   ]
  },
  {
   "cell_type": "code",
   "execution_count": null,
   "metadata": {},
   "outputs": [],
   "source": [
    "import os"
   ]
  },
  {
   "cell_type": "code",
   "execution_count": null,
   "metadata": {},
   "outputs": [],
   "source": [
    "sys.path"
   ]
  },
  {
   "cell_type": "code",
   "execution_count": null,
   "metadata": {},
   "outputs": [],
   "source": [
    "os.environ['PATH']"
   ]
  },
  {
   "cell_type": "code",
   "execution_count": null,
   "metadata": {},
   "outputs": [],
   "source": []
  }
 ],
 "metadata": {
  "kernelspec": {
   "display_name": "Python 3",
   "language": "python",
   "name": "python3"
  },
  "language_info": {
   "codemirror_mode": {
    "name": "ipython",
    "version": 3
   },
   "file_extension": ".py",
   "mimetype": "text/x-python",
   "name": "python",
   "nbconvert_exporter": "python",
   "pygments_lexer": "ipython3",
   "version": "3.9.1"
  }
 },
 "nbformat": 4,
 "nbformat_minor": 1
}
